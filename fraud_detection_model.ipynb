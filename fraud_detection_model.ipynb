{
  "nbformat": 4,
  "nbformat_minor": 0,
  "metadata": {
    "colab": {
      "provenance": [],
      "authorship_tag": "ABX9TyNaTsZc6J+zCjdOXdueTOhw",
      "include_colab_link": true
    },
    "kernelspec": {
      "name": "python3",
      "display_name": "Python 3"
    },
    "language_info": {
      "name": "python"
    }
  },
  "cells": [
    {
      "cell_type": "markdown",
      "metadata": {
        "id": "view-in-github",
        "colab_type": "text"
      },
      "source": [
        "<a href=\"https://colab.research.google.com/github/Bilal-Ahmad-5/Fraud-Detection-Model/blob/main/fraud_detection_model.ipynb\" target=\"_parent\"><img src=\"https://colab.research.google.com/assets/colab-badge.svg\" alt=\"Open In Colab\"/></a>"
      ]
    },
    {
      "cell_type": "code",
      "source": [
        "!pip install -qU xgboost imbalanced-learn\n"
      ],
      "metadata": {
        "id": "cdNNIgUEXq7r"
      },
      "execution_count": 2,
      "outputs": []
    },
    {
      "cell_type": "code",
      "source": [
        "import pandas as pd\n",
        "import numpy as np\n",
        "import seaborn as sns\n",
        "import matplotlib.pyplot as plt\n",
        "import pickle\n",
        "\n",
        "from sklearn.model_selection import train_test_split\n",
        "from sklearn.preprocessing import StandardScaler, LabelEncoder\n",
        "from sklearn.ensemble import RandomForestClassifier\n",
        "from sklearn.metrics import accuracy_score, classification_report, confusion_matrix\n",
        "from imblearn.over_sampling import SMOTE\n",
        "\n",
        "# 📌 1. Load Dataset\n",
        "df = pd.read_csv('/kaggle/input/financial-fraud-detection-dataset/Synthetic_Financial_datasets_log.csv')\n",
        "\n",
        "# 📌 2. Encode Categorical Columns\n",
        "encoder = LabelEncoder()\n",
        "df['type'] = encoder.fit_transform(df['type'])\n",
        "\n",
        "# 📌 3. Drop Unnecessary Columns\n",
        "df = df.drop(columns=['nameOrig', 'nameDest', 'isFlaggedFraud'])\n",
        "\n",
        "# 📌 4. Split Features and Target\n",
        "X = df.drop(columns=['isFraud'])\n",
        "y = df['isFraud']\n",
        "\n",
        "# 📌 5. Train-Test Split\n",
        "X_train, X_test, y_train, y_test = train_test_split(X, y, test_size=0.2, stratify=y, random_state=42)\n",
        "\n",
        "# 📌 6. Normalize Features\n",
        "scaler = StandardScaler()\n",
        "X_train = scaler.fit_transform(X_train)\n",
        "X_test = scaler.transform(X_test)\n",
        "\n",
        "# 📌 7. Apply SMOTE for Imbalanced Data\n",
        "smote = SMOTE(sampling_strategy=0.5, random_state=42)\n",
        "X_resampled, y_resampled = smote.fit_resample(X_train, y_train)\n",
        "\n",
        "# 📌 8. Train Model\n",
        "model_balanced = RandomForestClassifier(n_estimators=100, random_state=42)\n",
        "model_balanced.fit(X_resampled, y_resampled)\n",
        "\n",
        "# 📌 9. Evaluate Model\n",
        "y_pred_balanced = model_balanced.predict(X_test)\n",
        "\n",
        "print(\"✅ Model Accuracy:\", accuracy_score(y_test, y_pred_balanced))\n",
        "print(\"\\n✅ Classification Report:\\n\", classification_report(y_test, y_pred_balanced))\n",
        "\n",
        "# 📌 10. Confusion Matrix\n",
        "sns.heatmap(confusion_matrix(y_test, y_pred_balanced), annot=True, fmt='d', cmap='Blues')\n",
        "plt.title(\"Confusion Matrix After SMOTE\")\n",
        "plt.show()\n",
        "\n",
        "# 📌 11. Save Model\n",
        "with open(\"fraud_detection_model.pkl\", \"wb\") as file:\n",
        "    pickle.dump(model_balanced, file)\n",
        "\n",
        "print(\"✅ Model saved as fraud_detection_model.pkl\")\n",
        "\n"
      ],
      "metadata": {
        "id": "CtlKUkRqX42i"
      },
      "execution_count": null,
      "outputs": []
    },
    {
      "cell_type": "code",
      "source": [
        "import pandas as pd\n",
        "import numpy as np\n",
        "import pickle\n",
        "import seaborn as sns\n",
        "import matplotlib.pyplot as plt\n",
        "\n",
        "from sklearn.model_selection import train_test_split\n",
        "from sklearn.preprocessing import StandardScaler, LabelEncoder\n",
        "from sklearn.ensemble import RandomForestClassifier\n",
        "from sklearn.metrics import accuracy_score, classification_report, confusion_matrix\n",
        "from imblearn.over_sampling import SMOTE\n",
        "\n",
        "# 📌 1. Load Dataset\n",
        "df = pd.read_csv('/kaggle/input/financial-fraud-detection-dataset/Synthetic_Financial_datasets_log.csv')\n",
        "\n",
        "# 📌 2. Encode Categorical Columns\n",
        "encoder = LabelEncoder()\n",
        "df['type'] = encoder.fit_transform(df['type'])\n",
        "\n",
        "# 📌 3. Drop Unnecessary Columns\n",
        "df = df.drop(columns=['nameOrig', 'nameDest', 'isFlaggedFraud'])\n",
        "# 📌 4. Split Features and Target\n",
        "X = df.drop(columns=['isFraud'])\n",
        "y = df['isFraud']\n",
        "\n",
        "# 📌 5. Train-Test Split\n",
        "X_train, X_test, y_train, y_test = train_test_split(X, y, test_size=0.2, stratify=y, random_state=42)\n",
        "\n",
        "# 📌 6. Normalize Features\n",
        "scaler = StandardScaler()\n",
        "X_train = scaler.fit_transform(X_train)\n",
        "X_test = scaler.transform(X_test)\n",
        "\n",
        "# 📌 7. Apply SMOTE for Imbalanced Data\n",
        "smote = SMOTE(sampling_strategy=0.5, random_state=42)\n",
        "X_resampled, y_resampled = smote.fit_resample(X_train, y_train)\n",
        "\n",
        "# 📌 8. Train Model with scikit-learn 1.6.1\n",
        "model_balanced = RandomForestClassifier(n_estimators=100, random_state=42)\n",
        "model_balanced.fit(X_resampled, y_resampled)\n",
        "\n",
        "# 📌 9. Evaluate Model\n",
        "y_pred_balanced = model_balanced.predict(X_test)\n",
        "print(\"✅ Model Accuracy:\", accuracy_score(y_test, y_pred_balanced))\n",
        "print(\"\\n✅ Classification Report:\\n\", classification_report(y_test, y_pred_balanced))\n",
        "\n",
        "# 📌 10. Save Model for FastAPI\n",
        "with open(\"fraud_detection_model.pkl\", \"wb\") as file:\n",
        "    pickle.dump(model_balanced, file)\n",
        "\n",
        "print(\"✅ New Model Saved: fraud_detection_model.pkl (Compatible with scikit-learn 1.6.1)\")\n"
      ],
      "metadata": {
        "id": "5HNhO5j5Yifc"
      },
      "execution_count": null,
      "outputs": []
    }
  ]
}